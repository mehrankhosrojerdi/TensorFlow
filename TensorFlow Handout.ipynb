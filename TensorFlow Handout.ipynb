{
  "cells": [
    {
      "cell_type": "markdown",
      "metadata": {},
      "source": [
        "# TensorFlow"
      ]
    },
    {
      "cell_type": "markdown",
      "metadata": {},
      "source": [
        "## Hello World"
      ]
    },
    {
      "cell_type": "code",
      "execution_count": 29,
      "metadata": {},
      "outputs": [],
      "source": [
        "import warnings\n",
        "warnings.filterwarnings(\"ignore\", category=FutureWarning)\n",
        "import tensorflow as tf\n",
        "import numpy as np\n",
        "import matplotlib.pyplot as plt\n",
        "import pandas as pd\n",
        "import pylab as pl\n",
        "import matplotlib.patches as mpatches\n",
        "import matplotlib.pyplot as plt\n",
        "import random\n",
        "%matplotlib inline\n",
        "random.seed(42)"
      ]
    },
    {
      "cell_type": "code",
      "execution_count": 9,
      "metadata": {},
      "outputs": [],
      "source": [
        "# for making an array with one dimension with a special name we use tf.constannt\n",
        "a = tf.constant([2], name = 'constant_a')\n",
        "b = tf.constant([3], name = 'constant_b')"
      ]
    },
    {
      "cell_type": "code",
      "execution_count": 10,
      "metadata": {},
      "outputs": [
        {
          "data": {
            "text/plain": [
              "(<tf.Tensor: shape=(1,), dtype=int32, numpy=array([2], dtype=int32)>,\n",
              " <tf.Tensor: shape=(1,), dtype=int32, numpy=array([3], dtype=int32)>)"
            ]
          },
          "execution_count": 10,
          "metadata": {},
          "output_type": "execute_result"
        }
      ],
      "source": [
        "a,b"
      ]
    },
    {
      "cell_type": "code",
      "execution_count": 11,
      "metadata": {},
      "outputs": [
        {
          "data": {
            "text/plain": [
              "2"
            ]
          },
          "execution_count": 11,
          "metadata": {},
          "output_type": "execute_result"
        }
      ],
      "source": [
        "# for evaluating the value for the function we use this formation\n",
        "a.numpy()[0]"
      ]
    },
    {
      "cell_type": "code",
      "execution_count": 12,
      "metadata": {},
      "outputs": [],
      "source": [
        "# def add is used for adding two array\n",
        "def add(a,b):\n",
        "    c = tf.add(a,b)\n",
        "    return c"
      ]
    },
    {
      "cell_type": "code",
      "execution_count": 13,
      "metadata": {},
      "outputs": [
        {
          "name": "stdout",
          "output_type": "stream",
          "text": [
            "5\n"
          ]
        }
      ],
      "source": [
        "result = add(a,b)\n",
        "tf.print(result[0])"
      ]
    },
    {
      "cell_type": "markdown",
      "metadata": {},
      "source": [
        "Define multidimensional arrays using tensorflow"
      ]
    },
    {
      "cell_type": "code",
      "execution_count": 14,
      "metadata": {},
      "outputs": [
        {
          "data": {
            "text/plain": [
              "(<tf.Tensor: shape=(), dtype=int32, numpy=2>,\n",
              " <tf.Tensor: shape=(3,), dtype=int32, numpy=array([1, 2, 3], dtype=int32)>,\n",
              " <tf.Tensor: shape=(3, 3), dtype=int32, numpy=\n",
              " array([[1, 2, 3],\n",
              "        [4, 5, 6],\n",
              "        [7, 8, 9]], dtype=int32)>,\n",
              " <tf.Tensor: shape=(3, 3, 3), dtype=int32, numpy=\n",
              " array([[[1, 2, 3],\n",
              "         [1, 4, 7],\n",
              "         [2, 5, 8]],\n",
              " \n",
              "        [[3, 6, 9],\n",
              "         [2, 5, 8],\n",
              "         [0, 1, 4]],\n",
              " \n",
              "        [[2, 5, 8],\n",
              "         [3, 6, 9],\n",
              "         [2, 5, 4]]], dtype=int32)>)"
            ]
          },
          "execution_count": 14,
          "metadata": {},
          "output_type": "execute_result"
        }
      ],
      "source": [
        "scalar = tf.constant(2)\n",
        "vector = tf.constant([1,2,3])\n",
        "matrix = tf.constant([[1,2,3],[4,5,6],[7,8,9]])\n",
        "tensor = tf.constant([[[1,2,3],[1,4,7],[2,5,8]],[[3,6,9],[2,5,8],[0,1,4]],[[2,5,8],[3,6,9],[2,5,4]]])\n",
        "\n",
        "scalar, vector, matrix, tensor"
      ]
    },
    {
      "cell_type": "code",
      "execution_count": 15,
      "metadata": {},
      "outputs": [
        {
          "data": {
            "text/plain": [
              "(TensorShape([]),\n",
              " TensorShape([3]),\n",
              " TensorShape([3, 3]),\n",
              " TensorShape([3, 3, 3]))"
            ]
          },
          "execution_count": 15,
          "metadata": {},
          "output_type": "execute_result"
        }
      ],
      "source": [
        "scalar.shape, vector.shape, matrix.shape, tensor.shape"
      ]
    },
    {
      "cell_type": "code",
      "execution_count": 16,
      "metadata": {},
      "outputs": [],
      "source": [
        "matrix_a = tf.constant([[1,2,3],[4,5,6],[7,8,9]])\n",
        "matrix_b = tf.constant([[2,2,2],[3,3,3],[7,7,7]])"
      ]
    },
    {
      "cell_type": "code",
      "execution_count": 17,
      "metadata": {},
      "outputs": [
        {
          "data": {
            "text/plain": [
              "<tf.Tensor: shape=(3, 3), dtype=int32, numpy=\n",
              "array([[ 3,  4,  5],\n",
              "       [ 7,  8,  9],\n",
              "       [14, 15, 16]], dtype=int32)>"
            ]
          },
          "execution_count": 17,
          "metadata": {},
          "output_type": "execute_result"
        }
      ],
      "source": [
        "matrix_a + matrix_b"
      ]
    },
    {
      "cell_type": "code",
      "execution_count": 18,
      "metadata": {},
      "outputs": [
        {
          "data": {
            "text/plain": [
              "<tf.Tensor: shape=(3, 3), dtype=int32, numpy=\n",
              "array([[ 3,  4,  5],\n",
              "       [ 7,  8,  9],\n",
              "       [14, 15, 16]], dtype=int32)>"
            ]
          },
          "execution_count": 18,
          "metadata": {},
          "output_type": "execute_result"
        }
      ],
      "source": [
        "add(matrix_a, matrix_b)"
      ]
    },
    {
      "cell_type": "code",
      "execution_count": 19,
      "metadata": {},
      "outputs": [],
      "source": [
        "# multiplication fo two matrix is like this form\n",
        "def multiplication(a,b):\n",
        "    return tf.matmul(a,b)"
      ]
    },
    {
      "cell_type": "code",
      "execution_count": 20,
      "metadata": {},
      "outputs": [
        {
          "data": {
            "text/plain": [
              "<tf.Tensor: shape=(3, 3), dtype=int32, numpy=\n",
              "array([[ 29,  29,  29],\n",
              "       [ 65,  65,  65],\n",
              "       [101, 101, 101]], dtype=int32)>"
            ]
          },
          "execution_count": 20,
          "metadata": {},
          "output_type": "execute_result"
        }
      ],
      "source": [
        "multiplication(matrix_a, matrix_b)"
      ]
    },
    {
      "cell_type": "code",
      "execution_count": 21,
      "metadata": {},
      "outputs": [
        {
          "data": {
            "text/plain": [
              "(<tf.Tensor: shape=(1,), dtype=int32, numpy=array([7], dtype=int32)>,\n",
              " <tf.Tensor: shape=(1,), dtype=int32, numpy=array([3], dtype=int32)>)"
            ]
          },
          "execution_count": 21,
          "metadata": {},
          "output_type": "execute_result"
        }
      ],
      "source": [
        "# and here we have subtract \n",
        "\n",
        "a = tf.constant([5])\n",
        "b = tf.constant([2])\n",
        "c = tf.add(a,b)\n",
        "d = tf.subtract(a,b)\n",
        "\n",
        "c, d"
      ]
    },
    {
      "cell_type": "code",
      "execution_count": 22,
      "metadata": {},
      "outputs": [
        {
          "name": "stdout",
          "output_type": "stream",
          "text": [
            "tf.Tensor(1, shape=(), dtype=int32)\n",
            "tf.Tensor(2, shape=(), dtype=int32)\n",
            "tf.Tensor(3, shape=(), dtype=int32)\n"
          ]
        }
      ],
      "source": [
        "# variables in tensorflow are really important and we can use them in the calculation in this way\n",
        "\n",
        "v = tf.Variable(0)\n",
        "\n",
        "def increase_by_two(v):\n",
        "    return tf.add(v,1)\n",
        "\n",
        "for i in range(3):\n",
        "    v = increase_by_two(v)\n",
        "    print(v)\n"
      ]
    },
    {
      "cell_type": "markdown",
      "metadata": {},
      "source": [
        "## Eager Execution"
      ]
    },
    {
      "cell_type": "markdown",
      "metadata": {},
      "source": [
        "`Eager execution` in TensorFlow refers to an imperative programming environment that evaluates operations immediately as they are called. In contrast to the traditional TensorFlow workflow, where you first define a computational graph and then run it within a session, eager execution allows you to execute TensorFlow operations eagerly, much like you would in standard Python code.\n"
      ]
    },
    {
      "cell_type": "markdown",
      "metadata": {},
      "source": [
        "Basicly eager execution enables in Tensorflow 2.x and we can evaluate it by the below code"
      ]
    },
    {
      "cell_type": "code",
      "execution_count": 23,
      "metadata": {},
      "outputs": [],
      "source": [
        "from tensorflow.python.framework.ops import enable_eager_execution\n",
        "enable_eager_execution()"
      ]
    },
    {
      "cell_type": "code",
      "execution_count": 24,
      "metadata": {},
      "outputs": [
        {
          "data": {
            "text/plain": [
              "True"
            ]
          },
          "execution_count": 24,
          "metadata": {},
          "output_type": "execute_result"
        }
      ],
      "source": [
        "tf.executing_eagerly()"
      ]
    },
    {
      "cell_type": "code",
      "execution_count": 25,
      "metadata": {},
      "outputs": [
        {
          "name": "stdout",
          "output_type": "stream",
          "text": [
            "The result is [[16]]\n"
          ]
        }
      ],
      "source": [
        "x = [[4]]\n",
        "m = tf.matmul(x,x)\n",
        "print(f'The result is {m.numpy()}')"
      ]
    },
    {
      "cell_type": "code",
      "execution_count": 26,
      "metadata": {},
      "outputs": [
        {
          "name": "stdout",
          "output_type": "stream",
          "text": [
            "The type of the `a` is <class 'tensorflow.python.framework.ops.EagerTensor'>, and its value is 32.0\n"
          ]
        }
      ],
      "source": [
        "a = tf.constant(np.array([1., 2., 3.]))\n",
        "b = tf.constant(np.array([4., 5., 6.]))\n",
        "c = tf.tensordot(a, b, 1) # (`1`) specifies the axes along which the contraction will happen.\n",
        "print(f'The type of the `a` is {type(c)}, and its value is {c.numpy()}')"
      ]
    },
    {
      "cell_type": "markdown",
      "metadata": {},
      "source": [
        "Here it is clear that why the eager execution is beneficial and we now that all the functionality of the host language is available and we can use in different functions so easily. Lets look at this fizzbuzz example:"
      ]
    },
    {
      "cell_type": "code",
      "execution_count": 27,
      "metadata": {},
      "outputs": [],
      "source": [
        "def fizzbuzz(max_num):\n",
        "    counter = tf.constant(0)\n",
        "    max_num = tf.convert_to_tensor(max_num)\n",
        "    for num in range(1, max_num.numpy()+1):\n",
        "        num = tf.constant(num)\n",
        "        if int(num%2)==0 and int(num%5)==0:\n",
        "            print('FizzBuzz')\n",
        "        elif int(num%5)==0:\n",
        "            print('Buzz')\n",
        "        elif int(num%2)==0:\n",
        "            print('Fizz')\n",
        "        else:\n",
        "            print(num.numpy())  \n",
        "    counter+= 1"
      ]
    },
    {
      "cell_type": "code",
      "execution_count": 28,
      "metadata": {},
      "outputs": [
        {
          "name": "stdout",
          "output_type": "stream",
          "text": [
            "1\n",
            "Fizz\n",
            "3\n",
            "Fizz\n",
            "Buzz\n",
            "Fizz\n",
            "7\n",
            "Fizz\n",
            "9\n",
            "FizzBuzz\n"
          ]
        }
      ],
      "source": [
        "fizzbuzz(10)"
      ]
    },
    {
      "cell_type": "markdown",
      "metadata": {},
      "source": [
        "Whereas we can disable eager execution by the below code and here we can see that we are not allow to use the functiones that we have in the host library and we have to make them by ourselves"
      ]
    },
    {
      "cell_type": "code",
      "execution_count": 29,
      "metadata": {},
      "outputs": [],
      "source": [
        "from tensorflow.python.framework.ops import disable_eager_execution\n",
        "disable_eager_execution()"
      ]
    },
    {
      "cell_type": "code",
      "execution_count": 30,
      "metadata": {},
      "outputs": [
        {
          "data": {
            "text/plain": [
              "False"
            ]
          },
          "execution_count": 30,
          "metadata": {},
          "output_type": "execute_result"
        }
      ],
      "source": [
        "tf.executing_eagerly()"
      ]
    },
    {
      "cell_type": "code",
      "execution_count": 31,
      "metadata": {},
      "outputs": [
        {
          "name": "stdout",
          "output_type": "stream",
          "text": [
            "the value of this operation is 0 and the type of the result is <class 'tensorflow.python.framework.ops.Tensor'>\n"
          ]
        }
      ],
      "source": [
        "a = tf.constant(np.array([1., 2., 3.]))\n",
        "b = tf.constant(np.array([4.,5.,6.]))\n",
        "c = tf.tensordot(a, b, 1)\n",
        "print(f'the value of this operation is {c.value_index} and the type of the result is {type(c)}')"
      ]
    },
    {
      "cell_type": "markdown",
      "metadata": {},
      "source": [
        "So now here is easy to understand that the what s the benefits of the eager execution."
      ]
    },
    {
      "cell_type": "markdown",
      "metadata": {},
      "source": [
        "## Linear Regression with TensorFlow"
      ]
    },
    {
      "cell_type": "markdown",
      "metadata": {},
      "source": [
        "Linear regression in simple terms, is the approximation of a linear model used to describe the relationship between two or more variables. In a simple linear regression there are two variables, the dependent variable, which can be seen as the \"state\" or \"final goal\" that we study and try to predict, and the independent variables, also known as explanatory variables, which can be seen as the \"causes\" of the \"states\". \n",
        "\n",
        "When more than one independent variable is present the process is called multiple linear regression. <br>\n",
        "When multiple dependent variables are predicted the process is known as multivariate linear regression.\n",
        "\n",
        "The equation of a simple linear model is\n",
        "\n",
        "$$Y = a X + b $$\n",
        "\n",
        "Where Y is the dependent variable and X is the independent variable, and <b>a</b> and <b>b</b> being the parameters we adjust. <b>a</b> is known as \"slope\" or \"gradient\" and <b>b</b> is the \"intercept\". You can interpret this equation as Y being a function of X, or Y being dependent on X.\n",
        "\n",
        "If you plot the model, you will see it is a line, and by adjusting the \"slope\" parameter you will change the angle between the line and the independent variable axis, and the \"intercept parameter\" will affect where it crosses the dependent variable's axis."
      ]
    },
    {
      "cell_type": "markdown",
      "metadata": {},
      "source": [
        "Lets start with a simple example of a linear data which is base on a dataset that we will make it. First of all we define an array of independent variables, then we adjust the slop and intercept and by add a sspecial value of random numbers as noise we try to produce a dataset"
      ]
    },
    {
      "cell_type": "code",
      "execution_count": 33,
      "metadata": {},
      "outputs": [
        {
          "data": {
            "image/png": "[encoded data removed]",
            "text/plain": [
              "<Figure size 640x480 with 1 Axes>"
            ]
          },
          "metadata": {},
          "output_type": "display_data"
        }
      ],
      "source": [
        "# Defining the independent variable\n",
        "X = np.arange(0.0, 5.0, 0.1) \n",
        "len =X.shape[0]\n",
        "random.shuffle(X)\n",
        "# Adjusting the slop\n",
        "a = 1\n",
        "# Adjusting the intercept\n",
        "b = 0\n",
        "# Defining the dependent variable\n",
        "Y = a*X + b\n",
        "\n",
        "lst_rand = []\n",
        "for i in range(len):\n",
        "    lst_rand.append(random.random())\n",
        "\n",
        "Y_N_1 = np.add(Y[0:int(len*.5)],np.array(lst_rand[0:int(len*.5)]))\n",
        "Y_N_2 = np.add(Y[int(len*.5):int(len)],-np.array(lst_rand[int(len*.5):int(len)]))\n",
        "Y_N = np.concatenate((Y_N_1,Y_N_2),axis=0)\n",
        "\n",
        "plt.plot(X,Y_N,'o',c = 'blue')\n",
        "plt.plot(X,Y, 'o',c = 'red')\n",
        "plt.xlabel('Independent variable')\n",
        "plt.ylabel('Dependent variable')\n",
        "plt.show()"
      ]
    },
    {
      "cell_type": "markdown",
      "metadata": {},
      "source": [
        "Now we assume that X and Y_N are our dataset and we want to make a Linear model base on them and our target is the red circle line. Here we  define a function for calculating the value of `y` and then we have to initialize slop and intercept. Besides, we use predefined method for calculating the loss function. "
      ]
    },
    {
      "cell_type": "code",
      "execution_count": 41,
      "metadata": {},
      "outputs": [],
      "source": [
        "# Lets define the linear function\n",
        "def h(x):\n",
        "    y = a*x + b\n",
        "    return y\n",
        "\n",
        "# Besides we have to initialize the variables a and b\n",
        "# here we choose ones like tensors \n",
        "a = tf.Variable(tf.ones([1]))\n",
        "b = tf.Variable(tf.ones([1]))\n",
        "\n",
        "# A predefined method for calculation the loss function in TensorFlow\n",
        "loss_object = tf.keras.losses.MeanSquaredLogarithmicError()"
      ]
    },
    {
      "cell_type": "markdown",
      "metadata": {},
      "source": [
        "Now we are ready for train the model"
      ]
    },
    {
      "cell_type": "code",
      "execution_count": 42,
      "metadata": {},
      "outputs": [],
      "source": [
        "learning_rate = 2\n",
        "\n",
        "epochs = 200 # epochs are the number of itterating the calculation\n",
        "\n",
        "train_data = []\n",
        "loss_values = []\n",
        "a_values = []\n",
        "b_values = []\n",
        "\n",
        "for epoch in range(epochs):\n",
        "    with tf.GradientTape() as tape:\n",
        "\n",
        "        Y_P = h(X)\n",
        "        loss_value = loss_object(Y_N, Y_P)\n",
        "        loss_values.append(loss_value)\n",
        "\n",
        "        gradients = tape.gradient(loss_value, [a,b])\n",
        "\n",
        "        a_values.append(a.numpy())\n",
        "        b_values.append(b.numpy())\n",
        "\n",
        "        a.assign_sub(gradients[0]*learning_rate)\n",
        "        b.assign_sub(gradients[1]*learning_rate)\n",
        "\n",
        "        if epoch % 5 == 0:\n",
        "            train_data.append([a.numpy(), b.numpy()])"
      ]
    },
    {
      "cell_type": "code",
      "execution_count": 43,
      "metadata": {},
      "outputs": [
        {
          "data": {
            "image/png": "[encoded data removed]",
            "text/plain": [
              "<Figure size 2000x400 with 3 Axes>"
            ]
          },
          "metadata": {},
          "output_type": "display_data"
        }
      ],
      "source": [
        "fig, ax = plt.subplots(1, 3, figsize = (20,4)) \n",
        "ax[0].plot(loss_values, 'r-')\n",
        "ax[0].set_xlabel('epochs')\n",
        "ax[0].set_ylabel('loss')\n",
        "ax[1].plot(np.arange(0,epochs), a_values, 'y-',label = 'value of the slop');\n",
        "ax[1].plot(np.arange(0,epochs), b_values, 'r-',label = 'value of the intercept');\n",
        "ax[1].legend(loc=\"upper right\")\n",
        "ax[1].set_xlabel('epochs')\n",
        "ax[1].set_ylabel('variables a and b')\n",
        "ax[2].plot(X, Y_N,'.',label = 'dataset');\n",
        "ax[2].plot(X,Y,'black', label = 'target')\n",
        "for a,b in zip(a_values, b_values):\n",
        "    ax[2].plot(X, a*X + b ,'r-')\n",
        "ax[2].plot(X, a_values[-1]*X + b_values[-1] ,'b-' , label = 'last line');\n",
        "ax[2].legend(loc=\"upper left\");\n",
        "\n"
      ]
    },
    {
      "cell_type": "markdown",
      "metadata": {},
      "source": [
        "## Logestic Regression with TensorFlow"
      ]
    },
    {
      "cell_type": "markdown",
      "metadata": {},
      "source": [
        "### Theoretical Definitions"
      ]
    },
    {
      "cell_type": "markdown",
      "metadata": {},
      "source": [
        "Logistic Regression is a variation of Linear Regression, useful when the observed dependent variable, <i>y</i>, is categorical. It produces a formula that predicts the probability of the class label as a function of the independent variables.\n",
        "\n",
        "Despite the name logistic <i>regression</i>, it is actually a <b>probabilistic classification</b> model. Logistic regression fits a special s-shaped curve by taking the linear regression and transforming the numeric estimate into a probability with the following function:\n",
        "\n",
        "$$\n",
        "P = \\theta(y) = \\frac{e^y}{1 + e^y} = exp(y) / (1 + exp(y)) = p \n",
        "$$\n",
        "\n",
        "which produces p-values between 0 (as y approaches minus infinity $-\\infty$) and 1 (as y approaches plus infinity $+\\infty$). This now becomes a special kind of non-linear regression.\n",
        "\n",
        "In this equation, <i>y</i> is the regression result (the sum of the variables weighted by the coefficients), <code>exp</code> is the exponential function and $\\theta(y)$ is the logistic function, also called logistic curve. It is a common \"S\" shape (sigmoid curve), and was first developed for modeling population growth.\n",
        "\n",
        "You might also have seen this function before, in another configuration:\n",
        "\n",
        "$$\n",
        "P = \\theta(y) = \\frac{1}{1+e^{-y}}\n",
        "$$\n",
        "\n",
        "So, briefly, Logistic Regression passes the input through the logistic/sigmoid function but then treats the result as a probability.\n",
        "\n",
        "Now we can clarify the difference between Linear Regression and Logestic Regression.\n",
        "\n",
        "`1. Purpose:`  \n",
        "  \n",
        "-  Linear Regression: It is used for predicting a continuous dependent variable based on one or more independent variables. The relationship between the variables is assumed to be linear.  \n",
        "  \n",
        "-  Logistic Regression: It is used for predicting the probability of an event happening or not happening. The dependent variable is binary (e.g., 0 or 1, true or false), representing the occurrence or non-occurrence of an event.\n",
        "\n",
        "`2. Dependent Variable:`  \n",
        "  \n",
        "-  Linear Regression: The dependent variable is continuous and can take any real value within a range.  \n",
        "  \n",
        "-  Logistic Regression: The dependent variable is binary and represents the probability of an event occurring.  \n",
        "\n",
        "`3. Output:`  \n",
        "  \n",
        "-  Linear Regression: The output is a continuous value. The model predicts a quantity.  \n",
        "  \n",
        "-  Logistic Regression: The output is transformed using the logistic function (sigmoid function) to produce a probability value between 0 and 1. This can be interpreted as the probability of the event occurring.\n",
        "\n",
        "`4. Model Type:`  \n",
        "  \n",
        "-  Linear Regression: It is a regression model used for predicting a continuous outcome.  \n",
        "  \n",
        "-  Logistic Regression: It is a classification model used for predicting the probability of belonging to a particular class."
      ]
    },
    {
      "cell_type": "markdown",
      "metadata": {},
      "source": [
        "Lets describe Logestic Regression by an example and first of all we import modules that we need for this example:"
      ]
    },
    {
      "cell_type": "code",
      "execution_count": 44,
      "metadata": {},
      "outputs": [],
      "source": [
        "import tensorflow as tf\n",
        "import pandas as pd\n",
        "import numpy as np\n",
        "import time\n",
        "from sklearn.datasets import load_iris\n",
        "from sklearn.model_selection import train_test_split\n",
        "import matplotlib.pyplot as plt"
      ]
    },
    {
      "cell_type": "markdown",
      "metadata": {},
      "source": [
        "### IRIS Example"
      ]
    },
    {
      "cell_type": "markdown",
      "metadata": {},
      "source": [
        "#### Set Dataset"
      ]
    },
    {
      "cell_type": "markdown",
      "metadata": {},
      "source": [
        "Let's start with a dataset as a starting point"
      ]
    },
    {
      "cell_type": "code",
      "execution_count": 56,
      "metadata": {},
      "outputs": [],
      "source": [
        "iris = load_iris()\n",
        "iris_X, iris_y = iris.data, iris.target\n",
        "iris_y = pd.get_dummies(iris_y).values\n",
        "trainX, testX, trainY, testY = train_test_split(iris_X, iris_y, test_size=0.33, random_state=42)\n",
        "\n",
        "trainX = tf.constant(trainX, dtype = 'float32')\n",
        "trainY = tf.constant(trainY, dtype = 'float32')\n",
        "testX = tf.constant(testX, dtype = 'float32')\n",
        "testX = tf.constant(testX, dtype = 'float32')\n",
        "\n",
        "numFeature = trainX.shape[1]\n",
        "numLabels = trainY.shape[1]"
      ]
    },
    {
      "cell_type": "markdown",
      "metadata": {},
      "source": [
        "#### Set model weights and bias"
      ]
    },
    {
      "cell_type": "markdown",
      "metadata": {},
      "source": [
        "The next step is to set the weights and bias of the model. This step is so similar to the Linear Regression, we just need a shared variable weight matrix for Logistic Regression. We initialize both $W$ and $b$ as tensors full of zeros. Since we are going to learn $W$ and $b$, their initial value does not matter too much. These variables are the objects which define the structure of our regression model, and we can save them after they have been trained so we can reuse them later.\n",
        "\n",
        "We define two TensorFlow variables as our parameters. These variables will hold the weights and biases of our logistic regression and they will be continually updated during training. \n",
        "\n",
        "Notice that $W$ has a shape of [4, 3] because we wanna multiply the 4-dimensional input vectors by it to produce 3-dimensional vectors of evidence for the difference classes.$b$ has a shape of [3] so we can add it to the output. TensorFlow variables need to be initialized with values, e.g. with zeros."
      ]
    },
    {
      "cell_type": "code",
      "execution_count": 48,
      "metadata": {},
      "outputs": [],
      "source": [
        "W = tf.Variable(tf.zeros([4,3]))\n",
        "b = tf.Variable(tf.zeros([3]))"
      ]
    },
    {
      "cell_type": "markdown",
      "metadata": {},
      "source": [
        "or we can define it in this way which is more reliable than last zeros_like"
      ]
    },
    {
      "cell_type": "code",
      "execution_count": 54,
      "metadata": {},
      "outputs": [],
      "source": [
        "weights = tf.Variable(tf.random.normal([numFeature, numLabels], \n",
        "                                       mean=0,\n",
        "                                       stddev=0.01,\n",
        "                                       name='weights'),\n",
        "                                       dtype='float32')\n",
        "\n",
        "bias = tf.Variable(tf.random.normal([1,numLabels],\n",
        "                                    mean=0.,\n",
        "                                    stddev=0.01,\n",
        "                                    name='bias'))"
      ]
    },
    {
      "cell_type": "markdown",
      "metadata": {},
      "source": [
        "#### Set model"
      ]
    },
    {
      "cell_type": "markdown",
      "metadata": {},
      "source": [
        "We now define our model in order to properly run the Logistic Regression. Logistic regression is typically thought of as a single equation:\n",
        "\n",
        "$$\n",
        "y =sigmoid(WX+b)\n",
        "$$\n",
        "\n",
        "However, for the sake of clarity, we can have it broken into its three main components: \n",
        "\n",
        "-   a weight times features matrix multiplication operation, \n",
        "-   a summation of the weighted features and a bias term, \n",
        "-   and finally the application of a sigmoid function. \n",
        "\n",
        "As such, you will find these components defined as three separate operations below."
      ]
    },
    {
      "cell_type": "code",
      "execution_count": 86,
      "metadata": {},
      "outputs": [],
      "source": [
        "def logistic_regression_model(x,w,b):\n",
        "\n",
        "    apply_weights = tf.matmul(x, w, name = 'apply_weight')\n",
        "    add_bias = tf.add(apply_weights, b, name = 'add_bias')\n",
        "    activation=tf.nn.sigmoid(add_bias, name='activation')\n",
        "\n",
        "    return activation"
      ]
    },
    {
      "cell_type": "markdown",
      "metadata": {},
      "source": [
        "#### Training The model"
      ]
    },
    {
      "cell_type": "markdown",
      "metadata": {},
      "source": [
        "The learning algorithm is how we search for the best weight vector $W$ and best bias $b$. This search is an optimization problem looking for the hypothesis that optimizes an error/cost measure. Here the questuion is, what tells us that our model is bad? and the answere is,the Cost or Loss of the model, so what we want is to minimize that. The cost function we are going to utilize is the Squared Mean Error loss function.  \n",
        "  \n",
        "Before defining our cost function, we need to define how long we are going to train and how should we define the learning rate. Here the number of iteration appear by Epochs and the formation of the learning rate is exponentially which means that overally the learning rate starts at a point and decreases exponentially over time. The decay occurs at regular intervals defined by decay_steps, and the rate of decay is controlled by the decay_rate parameter.\n"
      ]
    },
    {
      "cell_type": "code",
      "execution_count": 63,
      "metadata": {},
      "outputs": [],
      "source": [
        "Epochs = 100\n",
        "\n",
        "learning_rate = tf.keras.optimizers.schedules.ExponentialDecay(initial_learning_rate=0.0008,\n",
        "                                                               decay_steps = trainX.shape[0],\n",
        "                                                               decay_rate = 0.95,\n",
        "                                                               staircase = True)\n",
        "\n",
        "loss_object = tf.keras.losses.MeanSquaredLogarithmicError()\n",
        "optimizer = tf.keras.optimizers.SGD(learning_rate)"
      ]
    },
    {
      "cell_type": "markdown",
      "metadata": {},
      "source": [
        "We also want some additional operations to keep track of the model's efficiency over time. We can do this like so:"
      ]
    },
    {
      "cell_type": "code",
      "execution_count": 85,
      "metadata": {},
      "outputs": [],
      "source": [
        "def accuracy(y_pred, y_true):\n",
        "\n",
        "    correct_prediction = tf.equal(tf.argmax(y_pred,1), tf.argmax(y_true,1))\n",
        "\n",
        "    return tf.reduce_mean(tf.cast(correct_prediction, tf.float32))"
      ]
    },
    {
      "cell_type": "code",
      "execution_count": 93,
      "metadata": {},
      "outputs": [],
      "source": [
        "def run_optimization(x, y, w, b):\n",
        "    with tf.GradientTape() as tape:\n",
        "    # Forward Pass\n",
        "        pred = logistic_regression_model(x, w, b)\n",
        "        loss = loss_object(pred, y)\n",
        "    # Backward Pass\n",
        "    gradients = tape.gradient(loss, [w, b])\n",
        "    # Optimization Step:\n",
        "    optimizer.apply_gradients(zip(gradients, [w, b]))"
      ]
    }
  ],
  "metadata": {
    "colab": {
      "provenance": []
    },
    "kernelspec": {
      "display_name": "Python 3",
      "name": "python3"
    },
    "language_info": {
      "codemirror_mode": {
        "name": "ipython",
        "version": 3
      },
      "file_extension": ".py",
      "mimetype": "text/x-python",
      "name": "python",
      "nbconvert_exporter": "python",
      "pygments_lexer": "ipython3",
      "version": "3.10.12"
    }
  },
  "nbformat": 4,
  "nbformat_minor": 0
}
